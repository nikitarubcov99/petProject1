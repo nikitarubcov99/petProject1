{
 "cells": [
  {
   "cell_type": "markdown",
   "source": [
    "# Импорт библиотек"
   ],
   "metadata": {
    "collapsed": false
   }
  },
  {
   "cell_type": "code",
   "execution_count": 1,
   "metadata": {
    "collapsed": true
   },
   "outputs": [],
   "source": [
    "import pandas as pd\n",
    "from datetime import timedelta\n",
    "import numpy as np\n",
    "import tensorflow as tf\n",
    "from sklearn.preprocessing import StandardScaler\n",
    "from sklearn.metrics import mean_absolute_error\n",
    "from matplotlib import pyplot as plt\n",
    "from typing import List"
   ]
  },
  {
   "cell_type": "markdown",
   "source": [
    "# Загрузка данных из файла"
   ],
   "metadata": {
    "collapsed": false
   }
  },
  {
   "cell_type": "code",
   "execution_count": 2,
   "outputs": [],
   "source": [
    "df = pd.read_csv(\"aapl.us.txt\", parse_dates=[\"Date\"])"
   ],
   "metadata": {
    "collapsed": false
   }
  },
  {
   "cell_type": "markdown",
   "source": [
    "# Анализ данных, разделение на обучающую и тестовую выборки"
   ],
   "metadata": {
    "collapsed": false
   }
  },
  {
   "cell_type": "code",
   "execution_count": 3,
   "outputs": [
    {
     "data": {
      "text/plain": "(8364, 7)"
     },
     "execution_count": 3,
     "metadata": {},
     "output_type": "execute_result"
    }
   ],
   "source": [
    "df.shape"
   ],
   "metadata": {
    "collapsed": false
   }
  },
  {
   "cell_type": "code",
   "execution_count": 4,
   "outputs": [
    {
     "data": {
      "text/plain": "        Date     Open     High      Low    Close    Volume  OpenInt\n0 1984-09-07  0.42388  0.42902  0.41874  0.42388  23220030        0\n1 1984-09-10  0.42388  0.42516  0.41366  0.42134  18022532        0\n2 1984-09-11  0.42516  0.43668  0.42516  0.42902  42498199        0\n3 1984-09-12  0.42902  0.43157  0.41618  0.41618  37125801        0\n4 1984-09-13  0.43927  0.44052  0.43927  0.43927  57822062        0",
      "text/html": "<div>\n<style scoped>\n    .dataframe tbody tr th:only-of-type {\n        vertical-align: middle;\n    }\n\n    .dataframe tbody tr th {\n        vertical-align: top;\n    }\n\n    .dataframe thead th {\n        text-align: right;\n    }\n</style>\n<table border=\"1\" class=\"dataframe\">\n  <thead>\n    <tr style=\"text-align: right;\">\n      <th></th>\n      <th>Date</th>\n      <th>Open</th>\n      <th>High</th>\n      <th>Low</th>\n      <th>Close</th>\n      <th>Volume</th>\n      <th>OpenInt</th>\n    </tr>\n  </thead>\n  <tbody>\n    <tr>\n      <th>0</th>\n      <td>1984-09-07</td>\n      <td>0.42388</td>\n      <td>0.42902</td>\n      <td>0.41874</td>\n      <td>0.42388</td>\n      <td>23220030</td>\n      <td>0</td>\n    </tr>\n    <tr>\n      <th>1</th>\n      <td>1984-09-10</td>\n      <td>0.42388</td>\n      <td>0.42516</td>\n      <td>0.41366</td>\n      <td>0.42134</td>\n      <td>18022532</td>\n      <td>0</td>\n    </tr>\n    <tr>\n      <th>2</th>\n      <td>1984-09-11</td>\n      <td>0.42516</td>\n      <td>0.43668</td>\n      <td>0.42516</td>\n      <td>0.42902</td>\n      <td>42498199</td>\n      <td>0</td>\n    </tr>\n    <tr>\n      <th>3</th>\n      <td>1984-09-12</td>\n      <td>0.42902</td>\n      <td>0.43157</td>\n      <td>0.41618</td>\n      <td>0.41618</td>\n      <td>37125801</td>\n      <td>0</td>\n    </tr>\n    <tr>\n      <th>4</th>\n      <td>1984-09-13</td>\n      <td>0.43927</td>\n      <td>0.44052</td>\n      <td>0.43927</td>\n      <td>0.43927</td>\n      <td>57822062</td>\n      <td>0</td>\n    </tr>\n  </tbody>\n</table>\n</div>"
     },
     "execution_count": 4,
     "metadata": {},
     "output_type": "execute_result"
    }
   ],
   "source": [
    "df.head(5)"
   ],
   "metadata": {
    "collapsed": false
   }
  },
  {
   "cell_type": "code",
   "execution_count": 5,
   "outputs": [
    {
     "data": {
      "text/plain": "(Timestamp('1984-09-07 00:00:00'), Timestamp('2017-11-10 00:00:00'))"
     },
     "execution_count": 5,
     "metadata": {},
     "output_type": "execute_result"
    }
   ],
   "source": [
    "df[\"Date\"].min(), df[\"Date\"].max()"
   ],
   "metadata": {
    "collapsed": false
   }
  },
  {
   "cell_type": "code",
   "execution_count": 6,
   "outputs": [
    {
     "data": {
      "text/plain": "<AxesSubplot:xlabel='Date'>"
     },
     "execution_count": 6,
     "metadata": {},
     "output_type": "execute_result"
    },
    {
     "data": {
      "text/plain": "<Figure size 432x288 with 1 Axes>",
      "image/png": "[encoded data removed]"
     },
     "metadata": {
      "needs_background": "light"
     },
     "output_type": "display_data"
    }
   ],
   "source": [
    "df.plot(x = 'Date', y = 'Open')"
   ],
   "metadata": {
    "collapsed": false
   }
  },
  {
   "cell_type": "code",
   "execution_count": 7,
   "outputs": [
    {
     "data": {
      "text/plain": "<AxesSubplot:xlabel='Date'>"
     },
     "execution_count": 7,
     "metadata": {},
     "output_type": "execute_result"
    },
    {
     "data": {
      "text/plain": "<Figure size 432x288 with 1 Axes>",
      "image/png": "[encoded data removed]"
     },
     "metadata": {
      "needs_background": "light"
     },
     "output_type": "display_data"
    }
   ],
   "source": [
    "df.plot(x = 'Date', y = 'High')"
   ],
   "metadata": {
    "collapsed": false
   }
  },
  {
   "cell_type": "code",
   "execution_count": 8,
   "outputs": [
    {
     "data": {
      "text/plain": "           Open     Close       Low      High\nOpen   1.000000  0.999902  0.999942  0.999956\nClose  0.999902  1.000000  0.999955  0.999953\nLow    0.999942  0.999955  1.000000  0.999928\nHigh   0.999956  0.999953  0.999928  1.000000",
      "text/html": "<div>\n<style scoped>\n    .dataframe tbody tr th:only-of-type {\n        vertical-align: middle;\n    }\n\n    .dataframe tbody tr th {\n        vertical-align: top;\n    }\n\n    .dataframe thead th {\n        text-align: right;\n    }\n</style>\n<table border=\"1\" class=\"dataframe\">\n  <thead>\n    <tr style=\"text-align: right;\">\n      <th></th>\n      <th>Open</th>\n      <th>Close</th>\n      <th>Low</th>\n      <th>High</th>\n    </tr>\n  </thead>\n  <tbody>\n    <tr>\n      <th>Open</th>\n      <td>1.000000</td>\n      <td>0.999902</td>\n      <td>0.999942</td>\n      <td>0.999956</td>\n    </tr>\n    <tr>\n      <th>Close</th>\n      <td>0.999902</td>\n      <td>1.000000</td>\n      <td>0.999955</td>\n      <td>0.999953</td>\n    </tr>\n    <tr>\n      <th>Low</th>\n      <td>0.999942</td>\n      <td>0.999955</td>\n      <td>1.000000</td>\n      <td>0.999928</td>\n    </tr>\n    <tr>\n      <th>High</th>\n      <td>0.999956</td>\n      <td>0.999953</td>\n      <td>0.999928</td>\n      <td>1.000000</td>\n    </tr>\n  </tbody>\n</table>\n</div>"
     },
     "execution_count": 8,
     "metadata": {},
     "output_type": "execute_result"
    }
   ],
   "source": [
    "df[['Open', 'Close', 'Low', 'High']].corr()"
   ],
   "metadata": {
    "collapsed": false
   }
  },
  {
   "cell_type": "code",
   "execution_count": 10,
   "outputs": [],
   "source": [
    "df_6_year = df[df['Date'] > df['Date'].max() - timedelta(days=365*6)]"
   ],
   "metadata": {
    "collapsed": false
   }
  },
  {
   "cell_type": "code",
   "execution_count": 11,
   "outputs": [
    {
     "data": {
      "text/plain": "(1509, 7)"
     },
     "execution_count": 11,
     "metadata": {},
     "output_type": "execute_result"
    }
   ],
   "source": [
    "df_6_year.shape"
   ],
   "metadata": {
    "collapsed": false
   }
  },
  {
   "cell_type": "code",
   "execution_count": 12,
   "outputs": [
    {
     "data": {
      "text/plain": "(Timestamp('2011-11-14 00:00:00'), Timestamp('2017-11-10 00:00:00'))"
     },
     "execution_count": 12,
     "metadata": {},
     "output_type": "execute_result"
    }
   ],
   "source": [
    "df_6_year['Date'].min(), df_6_year['Date'].max()"
   ],
   "metadata": {
    "collapsed": false
   }
  },
  {
   "cell_type": "code",
   "execution_count": 14,
   "outputs": [],
   "source": [
    "train_size = int(df_6_year.shape[0] * 0.8)\n",
    "train_df = df_6_year.iloc[:train_size]\n",
    "val_df = df_6_year.iloc[train_size:]"
   ],
   "metadata": {
    "collapsed": false
   }
  },
  {
   "cell_type": "code",
   "execution_count": 15,
   "outputs": [
    {
     "data": {
      "text/plain": "(1207, 7)"
     },
     "execution_count": 15,
     "metadata": {},
     "output_type": "execute_result"
    }
   ],
   "source": [
    "train_df.shape"
   ],
   "metadata": {
    "collapsed": false
   }
  },
  {
   "cell_type": "code",
   "execution_count": 16,
   "outputs": [
    {
     "data": {
      "text/plain": "(302, 7)"
     },
     "execution_count": 16,
     "metadata": {},
     "output_type": "execute_result"
    }
   ],
   "source": [
    "val_df.shape"
   ],
   "metadata": {
    "collapsed": false
   }
  },
  {
   "cell_type": "code",
   "execution_count": 18,
   "outputs": [
    {
     "data": {
      "text/plain": "(Timestamp('2011-11-14 00:00:00'),\n Timestamp('2016-08-31 00:00:00'),\n Timestamp('2016-09-01 00:00:00'),\n Timestamp('2017-11-10 00:00:00'))"
     },
     "execution_count": 18,
     "metadata": {},
     "output_type": "execute_result"
    }
   ],
   "source": [
    "train_df['Date'].min(), train_df['Date'].max(), val_df['Date'].min(), val_df['Date'].max()"
   ],
   "metadata": {
    "collapsed": false
   }
  },
  {
   "cell_type": "code",
   "execution_count": null,
   "outputs": [],
   "source": [],
   "metadata": {
    "collapsed": false
   }
  }
 ],
 "metadata": {
  "kernelspec": {
   "display_name": "Python 3",
   "language": "python",
   "name": "python3"
  },
  "language_info": {
   "codemirror_mode": {
    "name": "ipython",
    "version": 2
   },
   "file_extension": ".py",
   "mimetype": "text/x-python",
   "name": "python",
   "nbconvert_exporter": "python",
   "pygments_lexer": "ipython2",
   "version": "2.7.6"
  }
 },
 "nbformat": 4,
 "nbformat_minor": 0
}
